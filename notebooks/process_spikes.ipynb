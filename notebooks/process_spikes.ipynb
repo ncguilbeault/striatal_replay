{
 "cells": [
  {
   "cell_type": "code",
   "execution_count": 1,
   "id": "1286b152",
   "metadata": {},
   "outputs": [],
   "source": [
    "import pandas as pd\n",
    "import os\n",
    "import numpy as np\n",
    "from open_ephys.analysis import Session"
   ]
  },
  {
   "cell_type": "code",
   "execution_count": 2,
   "id": "75cc6022",
   "metadata": {},
   "outputs": [],
   "source": [
    "def align_ephys_data(main_processor_tuple, aux_processor_tuples, session_path=None, synch_channel=1):\n",
    "    session_data = Session(str(session_path))\n",
    "    if len(session_data.recordnodes) != 1:\n",
    "        raise ValueError(\"should be exactly one record node.\")\n",
    "    if len(session_data.recordnodes[0].recordings) != 1:\n",
    "        raise ValueError(\"Should be exactly one recording.\")\n",
    "    for rn, recordnode in enumerate(session_data.recordnodes):\n",
    "        for r, recording in enumerate(recordnode.recordings):\n",
    "            recording.add_sync_line(\n",
    "                synch_channel,\n",
    "                main_processor_tuple[0],\n",
    "                main_processor_tuple[1],\n",
    "                main=True,\n",
    "            )\n",
    "            for aux_processor in aux_processor_tuples:\n",
    "                recording.add_sync_line(\n",
    "                    synch_channel,\n",
    "                    aux_processor[0],\n",
    "                    aux_processor[1],\n",
    "                    main=False,\n",
    "                )\n",
    "            print('this should be zero:')\n",
    "            print(rn)\n",
    "    return recording"
   ]
  },
  {
   "cell_type": "code",
   "execution_count": 3,
   "id": "f35c2049",
   "metadata": {},
   "outputs": [],
   "source": [
    "organized_data_folder = \"/ceph/sjones/projects/sequence_squad/organised_data/animals/EJT178_implant1/recording7_30-03-2022/\"\n",
    "processed_data_folder = \"/nfs/gatsbystor/nicholasg/striatal_replay/processed_data\"\n",
    "open_ephys_folder = \"/ceph/sjones/projects/sequence_squad/data/raw_neuropixel/OE_DATA/EJT178/300322/2022-03-30_13-48-39/\""
   ]
  },
  {
   "cell_type": "code",
   "execution_count": 4,
   "id": "d32c0f15",
   "metadata": {},
   "outputs": [
    {
     "data": {
      "text/html": [
       "<div>\n",
       "<style scoped>\n",
       "    .dataframe tbody tr th:only-of-type {\n",
       "        vertical-align: middle;\n",
       "    }\n",
       "\n",
       "    .dataframe tbody tr th {\n",
       "        vertical-align: top;\n",
       "    }\n",
       "\n",
       "    .dataframe thead th {\n",
       "        text-align: right;\n",
       "    }\n",
       "</style>\n",
       "<table border=\"1\" class=\"dataframe\">\n",
       "  <thead>\n",
       "    <tr style=\"text-align: right;\">\n",
       "      <th></th>\n",
       "      <th>trial_id</th>\n",
       "      <th>camera_idx</th>\n",
       "      <th>camera_time</th>\n",
       "      <th>ephys_time</th>\n",
       "      <th>linear_position</th>\n",
       "      <th>x_position</th>\n",
       "      <th>y_position</th>\n",
       "      <th>port1</th>\n",
       "      <th>port2</th>\n",
       "    </tr>\n",
       "  </thead>\n",
       "  <tbody>\n",
       "    <tr>\n",
       "      <th>22191</th>\n",
       "      <td>1</td>\n",
       "      <td>22191</td>\n",
       "      <td>369.857173</td>\n",
       "      <td>4800.884355</td>\n",
       "      <td>0.000000</td>\n",
       "      <td>670.492310</td>\n",
       "      <td>513.852478</td>\n",
       "      <td>2</td>\n",
       "      <td>1</td>\n",
       "    </tr>\n",
       "    <tr>\n",
       "      <th>22192</th>\n",
       "      <td>1</td>\n",
       "      <td>22192</td>\n",
       "      <td>369.873841</td>\n",
       "      <td>4800.901010</td>\n",
       "      <td>-0.607927</td>\n",
       "      <td>671.156128</td>\n",
       "      <td>512.822449</td>\n",
       "      <td>2</td>\n",
       "      <td>1</td>\n",
       "    </tr>\n",
       "    <tr>\n",
       "      <th>22193</th>\n",
       "      <td>1</td>\n",
       "      <td>22193</td>\n",
       "      <td>369.890509</td>\n",
       "      <td>4800.917665</td>\n",
       "      <td>-0.010407</td>\n",
       "      <td>670.305847</td>\n",
       "      <td>513.338928</td>\n",
       "      <td>2</td>\n",
       "      <td>1</td>\n",
       "    </tr>\n",
       "    <tr>\n",
       "      <th>22194</th>\n",
       "      <td>1</td>\n",
       "      <td>22194</td>\n",
       "      <td>369.907178</td>\n",
       "      <td>4800.934320</td>\n",
       "      <td>0.082560</td>\n",
       "      <td>670.071716</td>\n",
       "      <td>513.164001</td>\n",
       "      <td>2</td>\n",
       "      <td>1</td>\n",
       "    </tr>\n",
       "    <tr>\n",
       "      <th>22195</th>\n",
       "      <td>1</td>\n",
       "      <td>22195</td>\n",
       "      <td>369.923846</td>\n",
       "      <td>4800.950974</td>\n",
       "      <td>0.010824</td>\n",
       "      <td>670.314087</td>\n",
       "      <td>513.453674</td>\n",
       "      <td>2</td>\n",
       "      <td>1</td>\n",
       "    </tr>\n",
       "    <tr>\n",
       "      <th>...</th>\n",
       "      <td>...</td>\n",
       "      <td>...</td>\n",
       "      <td>...</td>\n",
       "      <td>...</td>\n",
       "      <td>...</td>\n",
       "      <td>...</td>\n",
       "      <td>...</td>\n",
       "      <td>...</td>\n",
       "      <td>...</td>\n",
       "    </tr>\n",
       "    <tr>\n",
       "      <th>163228</th>\n",
       "      <td>276</td>\n",
       "      <td>163228</td>\n",
       "      <td>2720.473922</td>\n",
       "      <td>7150.310765</td>\n",
       "      <td>597.237558</td>\n",
       "      <td>650.354614</td>\n",
       "      <td>576.198364</td>\n",
       "      <td>3</td>\n",
       "      <td>7</td>\n",
       "    </tr>\n",
       "    <tr>\n",
       "      <th>163229</th>\n",
       "      <td>276</td>\n",
       "      <td>163229</td>\n",
       "      <td>2720.490593</td>\n",
       "      <td>7150.327440</td>\n",
       "      <td>606.095453</td>\n",
       "      <td>654.041809</td>\n",
       "      <td>570.472900</td>\n",
       "      <td>3</td>\n",
       "      <td>7</td>\n",
       "    </tr>\n",
       "    <tr>\n",
       "      <th>163230</th>\n",
       "      <td>276</td>\n",
       "      <td>163230</td>\n",
       "      <td>2720.507265</td>\n",
       "      <td>7150.344115</td>\n",
       "      <td>616.064659</td>\n",
       "      <td>655.980164</td>\n",
       "      <td>564.733582</td>\n",
       "      <td>3</td>\n",
       "      <td>7</td>\n",
       "    </tr>\n",
       "    <tr>\n",
       "      <th>163231</th>\n",
       "      <td>276</td>\n",
       "      <td>163231</td>\n",
       "      <td>2720.523936</td>\n",
       "      <td>7150.360789</td>\n",
       "      <td>627.483287</td>\n",
       "      <td>657.201050</td>\n",
       "      <td>558.478149</td>\n",
       "      <td>3</td>\n",
       "      <td>7</td>\n",
       "    </tr>\n",
       "    <tr>\n",
       "      <th>163232</th>\n",
       "      <td>276</td>\n",
       "      <td>163232</td>\n",
       "      <td>2720.540607</td>\n",
       "      <td>7150.377464</td>\n",
       "      <td>642.829843</td>\n",
       "      <td>659.247437</td>\n",
       "      <td>549.941711</td>\n",
       "      <td>3</td>\n",
       "      <td>7</td>\n",
       "    </tr>\n",
       "  </tbody>\n",
       "</table>\n",
       "<p>34261 rows × 9 columns</p>\n",
       "</div>"
      ],
      "text/plain": [
       "        trial_id  camera_idx  camera_time   ephys_time  linear_position  \\\n",
       "22191          1       22191   369.857173  4800.884355         0.000000   \n",
       "22192          1       22192   369.873841  4800.901010        -0.607927   \n",
       "22193          1       22193   369.890509  4800.917665        -0.010407   \n",
       "22194          1       22194   369.907178  4800.934320         0.082560   \n",
       "22195          1       22195   369.923846  4800.950974         0.010824   \n",
       "...          ...         ...          ...          ...              ...   \n",
       "163228       276      163228  2720.473922  7150.310765       597.237558   \n",
       "163229       276      163229  2720.490593  7150.327440       606.095453   \n",
       "163230       276      163230  2720.507265  7150.344115       616.064659   \n",
       "163231       276      163231  2720.523936  7150.360789       627.483287   \n",
       "163232       276      163232  2720.540607  7150.377464       642.829843   \n",
       "\n",
       "        x_position  y_position  port1  port2  \n",
       "22191   670.492310  513.852478      2      1  \n",
       "22192   671.156128  512.822449      2      1  \n",
       "22193   670.305847  513.338928      2      1  \n",
       "22194   670.071716  513.164001      2      1  \n",
       "22195   670.314087  513.453674      2      1  \n",
       "...            ...         ...    ...    ...  \n",
       "163228  650.354614  576.198364      3      7  \n",
       "163229  654.041809  570.472900      3      7  \n",
       "163230  655.980164  564.733582      3      7  \n",
       "163231  657.201050  558.478149      3      7  \n",
       "163232  659.247437  549.941711      3      7  \n",
       "\n",
       "[34261 rows x 9 columns]"
      ]
     },
     "execution_count": 4,
     "metadata": {},
     "output_type": "execute_result"
    }
   ],
   "source": [
    "all_trajectories = pd.read_csv(os.path.join(processed_data_folder, \"all_trajectories.csv\"), index_col=0)\n",
    "all_trajectories"
   ]
  },
  {
   "cell_type": "code",
   "execution_count": 5,
   "id": "c005b04b",
   "metadata": {},
   "outputs": [
    {
     "name": "stdout",
     "output_type": "stream",
     "text": [
      "Processor ID: 102, Stream Name: 0, Line: 1 (main sync line))\n",
      "  First event sample number: 60920380\n",
      "  Last event sample number: 512017786\n",
      "  Total sync events: 15036\n",
      "  Sample rate: 30000\n",
      "100.00%\r"
     ]
    },
    {
     "data": {
      "text/plain": [
       "array([[0, 0, 0, ..., 0, 0, 0],\n",
       "       [0, 0, 0, ..., 0, 0, 0],\n",
       "       [0, 0, 0, ..., 0, 0, 0],\n",
       "       ...,\n",
       "       [0, 0, 0, ..., 0, 0, 0],\n",
       "       [0, 0, 0, ..., 0, 0, 0],\n",
       "       [0, 0, 0, ..., 0, 0, 0]])"
      ]
     },
     "metadata": {},
     "output_type": "display_data"
    },
    {
     "data": {
      "text/plain": [
       "array([   0.        ,    0.        ,    0.        , ..., -265.65648489,\n",
       "       -265.65648489, -265.65648489])"
      ]
     },
     "metadata": {},
     "output_type": "display_data"
    },
    {
     "data": {
      "text/plain": [
       "array([4800.88493333, 4800.88536667, 4800.88553333, ..., 6471.92076667,\n",
       "       6471.92086667, 6471.92093333])"
      ]
     },
     "metadata": {},
     "output_type": "display_data"
    }
   ],
   "source": [
    "Fs = 30000.0\n",
    "cutoff = 1_000_000\n",
    "\n",
    "session_data = Session(str(open_ephys_folder))\n",
    "recording = session_data.recordnodes[0].recordings[0]\n",
    "recording.add_sync_line(1, 102, '0', main=True)\n",
    "recording.compute_global_timestamps()\n",
    "ephys_timestamps = recording.continuous[2].global_timestamps\n",
    "\n",
    "spike_times = (np.load(os.path.join(organized_data_folder, \"ephys\", \"kilosort3\", \"spike_times.npy\")).squeeze() / Fs) + ephys_timestamps[0]\n",
    "spike_clusters = np.load(os.path.join(organized_data_folder, \"ephys\", \"kilosort3\", \"spike_clusters.npy\")).squeeze()\n",
    "\n",
    "unique_clusters = np.unique(spike_clusters)\n",
    "clusters_count = len(unique_clusters)\n",
    "clusters_mapping = np.arange(np.max(spike_clusters)+1)\n",
    "clusters_mapping[unique_clusters] = np.arange(clusters_count)\n",
    "spikes = np.zeros((clusters_count, cutoff), dtype=int)\n",
    "spikes[clusters_mapping[spike_clusters][:cutoff], np.arange(spikes.shape[1])] = 1\n",
    "\n",
    "trial_start_times = all_trajectories.groupby([\"trial_id\"]).agg(\"first\")[\"ephys_time\"]\n",
    "trial_start_times.name = \"start_time\"\n",
    "trial_end_times = all_trajectories.groupby([\"trial_id\"]).agg(\"last\")[\"ephys_time\"]\n",
    "trial_end_times.name = \"end_time\"\n",
    "\n",
    "trial_ephys_times = pd.concat([trial_start_times, trial_end_times], axis=1)\n",
    "\n",
    "times = np.array([])\n",
    "for i, (trial_time) in trial_ephys_times.iterrows():\n",
    "    start = trial_time[\"start_time\"]\n",
    "    end = trial_time[\"end_time\"]\n",
    "    mask_start = (spike_times >= start).argmax()\n",
    "    mask_end = (spike_times >= end).argmax()\n",
    "    times = np.append(times, spike_times[mask_start:mask_end])\n",
    "    if len(times) > cutoff:\n",
    "        times = times[:cutoff]\n",
    "        break\n",
    "\n",
    "position = np.array([])\n",
    "for i, spike_time in enumerate(times):\n",
    "    print(f\"{(i+1)/len(times)*100:.2f}%\", end=\"\\r\")\n",
    "    idx = (all_trajectories[\"ephys_time\"] - spike_time).abs().argmin()\n",
    "    position = np.append(position, all_trajectories.iloc[idx][\"linear_position\"])\n",
    "\n",
    "np.save(os.path.join(processed_data_folder, \"spikes.npy\"), spikes)\n",
    "np.save(os.path.join(processed_data_folder, \"position.npy\"), position)\n",
    "np.save(os.path.join(processed_data_folder, \"times.npy\"), times)\n",
    "display(spikes)\n",
    "display(position)\n",
    "display(times)\n"
   ]
  },
  {
   "cell_type": "code",
   "execution_count": 6,
   "id": "7382d0bb",
   "metadata": {},
   "outputs": [
    {
     "data": {
      "text/plain": [
       "array([[0, 0, 0, ..., 0, 0, 0],\n",
       "       [0, 0, 0, ..., 0, 0, 0],\n",
       "       [0, 0, 0, ..., 0, 0, 0],\n",
       "       ...,\n",
       "       [0, 0, 0, ..., 0, 0, 0],\n",
       "       [0, 0, 0, ..., 0, 0, 0],\n",
       "       [0, 0, 0, ..., 0, 0, 0]])"
      ]
     },
     "metadata": {},
     "output_type": "display_data"
    },
    {
     "data": {
      "text/plain": [
       "array([   0.        ,    0.        ,    0.        , ..., -265.65648489,\n",
       "       -265.65648489, -265.65648489])"
      ]
     },
     "metadata": {},
     "output_type": "display_data"
    },
    {
     "data": {
      "text/plain": [
       "array([4800.88493333, 4800.88536667, 4800.88553333, ..., 6471.92076667,\n",
       "       6471.92086667, 6471.92093333])"
      ]
     },
     "metadata": {},
     "output_type": "display_data"
    }
   ],
   "source": [
    "spikes = np.load(os.path.join(processed_data_folder, \"spikes.npy\"))\n",
    "position = np.load(os.path.join(processed_data_folder, \"position.npy\"))\n",
    "times = np.load(os.path.join(processed_data_folder, \"times.npy\"))\n",
    "display(spikes)\n",
    "display(position)\n",
    "display(times)"
   ]
  },
  {
   "cell_type": "code",
   "execution_count": null,
   "id": "9c91d6ac",
   "metadata": {},
   "outputs": [],
   "source": []
  }
 ],
 "metadata": {
  "kernelspec": {
   "display_name": "Python 3 (ipykernel)",
   "language": "python",
   "name": "python3"
  },
  "language_info": {
   "codemirror_mode": {
    "name": "ipython",
    "version": 3
   },
   "file_extension": ".py",
   "mimetype": "text/x-python",
   "name": "python",
   "nbconvert_exporter": "python",
   "pygments_lexer": "ipython3",
   "version": "3.8.10"
  }
 },
 "nbformat": 4,
 "nbformat_minor": 5
}
